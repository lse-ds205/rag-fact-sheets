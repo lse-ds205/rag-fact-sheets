{
 "cells": [
  {
   "cell_type": "markdown",
   "id": "fe5f70da",
   "metadata": {},
   "source": [
    "# Demo of the Report Genorator Tool\n",
    "\n",
    "This tool generates a structured markdown report on any topic using climate policy tracker documents. \n",
    "\n",
    "### 0. Setup"
   ]
  },
  {
   "cell_type": "code",
   "execution_count": 1,
   "id": "7e499057",
   "metadata": {},
   "outputs": [
    {
     "name": "stdout",
     "output_type": "stream",
     "text": [
      "Added /Users/jessiefung/Desktop/DS205/group-6-final-project to sys.path\n"
     ]
    }
   ],
   "source": [
    "# Import necessary modules\n",
    "import sys\n",
    "import os\n",
    "from pathlib import Path\n",
    "\n",
    "# Get the absolute path of the project root directory\n",
    "notebook_dir = Path(os.getcwd())  \n",
    "project_root = notebook_dir.parent.parent  # Go up TWO levels instead of one\n",
    "\n",
    "# Add project root to Python path\n",
    "if str(project_root) not in sys.path:\n",
    "    sys.path.insert(0, str(project_root))\n",
    "    print(f\"Added {project_root} to sys.path\")\n"
   ]
  },
  {
   "cell_type": "code",
   "execution_count": 2,
   "id": "6fa6e84a",
   "metadata": {},
   "outputs": [
    {
     "name": "stderr",
     "output_type": "stream",
     "text": [
      "/Users/jessiefung/Desktop/DS205/group-6-final-project/.venv/lib/python3.12/site-packages/fuzzywuzzy/fuzz.py:11: UserWarning: Using slow pure-python SequenceMatcher. Install python-Levenshtein to remove this warning\n",
      "  warnings.warn('Using slow pure-python SequenceMatcher. Install python-Levenshtein to remove this warning')\n"
     ]
    }
   ],
   "source": [
    "from scripts.climate_policy_pipelines.report_generation.pipeline import report_workflow"
   ]
  },
  {
   "cell_type": "markdown",
   "id": "43953a5b",
   "metadata": {},
   "source": [
    "## Demonstration with Carbon Pricing\n",
    "\n",
    "Lets say that you want to generate a report on carbon pricing policy in Albania. Simply input your topic of interest into the worklow and it will generate a report on any topic covered in the climate policy documents dataset.\n",
    "\n",
    "As detailed in the TECHNICAL_REPORT, this tool generates a template, which it will print and you can choose to approve or not (simply input Y/N into the VScode search bar when it prompts you). If you say yes, it will generate a report, which you can then similarility aprove or send back for revisions. If you say no, it will create a new template with a more powerful model.\n",
    "\n",
    "Note that this can take some time. You can see an example output in `Evaluation/Example Fact Sheets`."
   ]
  },
  {
   "cell_type": "code",
   "execution_count": null,
   "id": "25d5a0f3",
   "metadata": {},
   "outputs": [
    {
     "name": "stdout",
     "output_type": "stream",
     "text": [
      "Starting report generation for topic: carbon pricing policies\n",
      "\n",
      "Review template:\n",
      "##METADATA \n",
      "\n",
      "*Country: \n",
      "\n",
      "##REPORT \n",
      "\n",
      "Q1: What are the relevant background information for carbon pricing policies in this country? \n",
      "Q2: What are the current carbon pricing mechanisms in place (e.g. carbon tax, cap-and-trade system)? \n",
      "Q3: What are the key features of the carbon pricing policy (e.g. price level, coverage, exemptions)? \n",
      "Q4: How has the carbon pricing policy evolved over time (e.g. changes to price, coverage, exemptions)? \n",
      "Q5: What are the challenges and controversies surrounding the carbon pricing policy (e.g. opposition from industry, concerns about equity)? \n",
      "\n",
      "##TOPIC: Carbon Pricing Mechanisms \n",
      "\n",
      "*Countries with relevant information: … \n",
      "\n",
      "##REPORT \n",
      "\n",
      "Q1: Which countries have implemented a carbon tax? \n",
      "A: Country A [citation], B [citation] and C [citation] have implemented a carbon tax with a price level of X. On the other hand, the following countries … differ because … \n",
      "A: … \n",
      "\n",
      "Q2: Which countries have implemented a cap-and-trade system? \n",
      "A: Country D [citation], E [citation] and F [citation] have implemented a cap-and-trade system with a coverage of X. \n",
      "\n",
      "##TOPIC: Effectiveness and Impact \n",
      "\n",
      "*Countries with relevant information: … \n",
      "\n",
      "##REPORT \n",
      "\n",
      "Q1: What are the estimated emissions reductions associated with the carbon pricing policy? \n",
      "A: Studies have shown that the carbon pricing policy in Country G [citation] has led to emissions reductions of X. \n",
      "Q2: What are the economic impacts of the carbon pricing policy (e.g. job losses, economic growth)? \n",
      "A: Research has found that the carbon pricing policy in Country H [citation] has led to economic growth of X. \n",
      "\n",
      "##TOPIC: Challenges and Controversies \n",
      "\n",
      "*Countries with relevant information: … \n",
      "\n",
      "##REPORT \n",
      "\n",
      "Q1: What are the key challenges and controversies surrounding the carbon pricing policy (e.g. opposition from industry, concerns about equity)? \n",
      "A: Country I [citation] has faced opposition from industry due to concerns about the price level and coverage of the carbon pricing policy.\n"
     ]
    },
    {
     "name": "stderr",
     "output_type": "stream",
     "text": [
      "Some weights of RobertaModel were not initialized from the model checkpoint at /Users/jessiefung/Desktop/DS205/group-6-final-project/local_model/climatebert/distilroberta-base-climate-f and are newly initialized: ['pooler.dense.bias', 'pooler.dense.weight']\n",
      "You should probably TRAIN this model on a down-stream task to be able to use it for predictions and inference.\n",
      "Some weights of RobertaModel were not initialized from the model checkpoint at /Users/jessiefung/Desktop/DS205/group-6-final-project/local_model/climatebert/distilroberta-base-climate-f and are newly initialized: ['pooler.dense.bias', 'pooler.dense.weight']\n",
      "You should probably TRAIN this model on a down-stream task to be able to use it for predictions and inference.\n",
      "Some weights of RobertaModel were not initialized from the model checkpoint at /Users/jessiefung/Desktop/DS205/group-6-final-project/local_model/climatebert/distilroberta-base-climate-f and are newly initialized: ['pooler.dense.bias', 'pooler.dense.weight']\n",
      "You should probably TRAIN this model on a down-stream task to be able to use it for predictions and inference.\n",
      "Some weights of RobertaModel were not initialized from the model checkpoint at /Users/jessiefung/Desktop/DS205/group-6-final-project/local_model/climatebert/distilroberta-base-climate-f and are newly initialized: ['pooler.dense.bias', 'pooler.dense.weight']\n",
      "You should probably TRAIN this model on a down-stream task to be able to use it for predictions and inference.\n",
      "Some weights of RobertaModel were not initialized from the model checkpoint at /Users/jessiefung/Desktop/DS205/group-6-final-project/local_model/climatebert/distilroberta-base-climate-f and are newly initialized: ['pooler.dense.bias', 'pooler.dense.weight']\n",
      "You should probably TRAIN this model on a down-stream task to be able to use it for predictions and inference.\n",
      "Some weights of RobertaModel were not initialized from the model checkpoint at /Users/jessiefung/Desktop/DS205/group-6-final-project/local_model/climatebert/distilroberta-base-climate-f and are newly initialized: ['pooler.dense.bias', 'pooler.dense.weight']\n",
      "You should probably TRAIN this model on a down-stream task to be able to use it for predictions and inference.\n",
      "Some weights of RobertaModel were not initialized from the model checkpoint at /Users/jessiefung/Desktop/DS205/group-6-final-project/local_model/climatebert/distilroberta-base-climate-f and are newly initialized: ['pooler.dense.bias', 'pooler.dense.weight']\n",
      "You should probably TRAIN this model on a down-stream task to be able to use it for predictions and inference.\n"
     ]
    },
    {
     "name": "stdout",
     "output_type": "stream",
     "text": [
      "\n",
      "Final report review:\n",
      "The current carbon pricing policy in place in Albania is a carbon tax, which is set at 1.5 lek per liter for gasoline and 3 lek per liter for oil (Source 10, National Energy and Climate Plan 2019 Draft). Additionally, excise is reimbursed for biofuels used in transport by the customs authority, up to 5% (Source 10, National Energy and Climate Plan 2019 Draft). However, it is worth noting that the country's climate financing is highly dependent on the international community, and there is a lack of an effective and sustainable national financing mechanism (Source 6, Albania’s National Adaptation Plan First - progress report).\n",
      "\n",
      "The coverage of the carbon pricing policy in Albania is not explicitly stated in the provided sources. However, based on the information available, it can be inferred that the policy may cover various sectors, including energy, industry, agriculture, waste, and land-use, land-use change, and forestry (LULUCF) (Source 2, Figure 38-41). The policy may also address different types of emissions, such as greenhouse gas emissions from energy-related activities, industrial processes, and agriculture (Source 2, Figure 38-41). Additionally, the policy may aim to reduce emissions from specific sources, such as cement production and refrigerant use (Source 2, Figure 38). However, the exact scope and coverage of the carbon pricing policy in Albania remain unclear.\n",
      "\n",
      "The price level of the carbon pricing policy in Albania is set at 1.5 lek per liter for gasoline and 3 lek per liter for oil, as stated in Law No.9975, dated 28.7.2008 \"For national taxes\" (Source 9, National Energy and Climate Plan 2019 Draft).\n",
      "\n",
      "The revenue generated from carbon pricing policies in Albania is not explicitly stated to be returned to citizens or invested in clean energy. However, the National Energy and Climate Plan 2019 Draft mentions that the implementation of energy and climate policies can have various impacts on public budgets, including increasing or decreasing public revenue streams (Source 9, Page Unknown). Additionally, the plan notes that the carbon tax is set at 1.5 lek per liter for gasoline and 3 lek per liter for oil, with the revenue generated from these taxes not specified (Source 5, Page Unknown). Furthermore, the Albania's National Adaptation Plan First - progress report highlights the lack of an effective and sustainable national financing mechanism for climate change adaptation, relying mainly on international donor support (Source 2, Page Unknown).\n",
      "\n",
      "Q5: Are there any exemptions or special treatment for certain industries or sectors under the carbon pricing policy? \n",
      "\n",
      "There is no explicit mention of exemptions or special treatment for certain industries or sectors under the carbon pricing policy in the provided sources. However, it can be inferred that policies improving energy efficiency (EE) in the residential sector, as well as policies requiring construction works, such as building refurbishments or infrastructure-related projects, may have a positive impact on household incomes, employment, and public budgets (Source 6, Page Unknown). Additionally, the development of renewable energy power plants is expected to create employment opportunities, particularly during the construction phase (Source 5, Page Unknown). Nevertheless, the lack of a comprehensive national financing mechanism for climate change adaptation and the reliance on international funding may pose challenges for the implementation of carbon pricing policies (Source 8, Page Unknown).\n",
      "\n",
      "Albania's carbon pricing policy is expected to interact with other climate policies, such as renewable portfolio standards and energy efficiency standards, to achieve the country's emission reduction objectives (Source 5, National Energy and Climate Plan 2019 Draft). The policy aims to promote a stable business climate that encourages low-carbon investments, in line with the EU's \"Low-carbon Economy Roadmap\" (Source 9, National Energy and Climate Plan 2019 Draft). The transformation of the current Feed-in-Tariff (FIT) scheme into a Contract-for-Difference (CfD) support scheme for renewable energy, as outlined in the Order of Minister no.27 (Source 10, National Energy and Climate Plan 2019 Draft), is expected to play a crucial role in this regard. Additionally, policies improving energy efficiency in the residential sector and promoting the use of renewable energies are expected to have positive impacts on household incomes, employment, and public budgets (Source 6, National Energy and Climate Plan 2019 Draft).\n",
      "\n",
      "Q7: The key challenges for the carbon pricing policy in Albania include the lack of capacities and human resources (Source 1), limited public budgets (Source 3), and budget allocation restrictions (Source 8). However, opportunities exist in the potential for carbon pricing to generate revenue that can be used to support low-carbon development (Source 3) and improve public budgets (Source 6). Additionally, carbon pricing can create green jobs and stimulate economic growth (Source 7). Effective implementation of carbon pricing policies will require addressing the existing capacity and resource gaps, as well as ensuring that the revenue generated is used to support low-carbon development.\n",
      "\n",
      "Q8: The carbon pricing policy in Albania is designed to be consistent with the country's Nationally Determined Contribution (NDC) under the Paris Agreement, which aims to reduce greenhouse gas emissions and mitigate climate change (Source 9). The policy is expected to cover at least 50% of the country's GHG emissions and have a price level of at least $10/tCO2e (Assessment Criteria). However, the policy's alignment with the NDC is not explicitly stated in the provided sources, and further information is needed to confirm its consistency with the NDC., ##METADATA \n",
      "\n",
      "*Country: \n",
      "*Date of Report: \n",
      "*Relevant Legislation: \n",
      "\n",
      "##REPORT \n",
      "\n",
      "Q1: What is the current carbon pricing policy in place in this country? \n",
      "\n",
      "Q2: What is the coverage of the carbon pricing policy (e.g. sectors, industries, emissions types)? \n",
      "\n",
      "Q3: What is the price level of the carbon pricing policy (e.g. tax rate, allowance price)? \n",
      "\n",
      "Q4: How is revenue generated from the carbon pricing policy used (e.g. returned to citizens, invested in clean energy)? \n",
      "\n",
      "Q5: Are there any exemptions or special treatment for certain industries or sectors under the carbon pricing policy? \n",
      "\n",
      "Q6: How does the carbon pricing policy interact with other climate policies in the country (e.g. renewable portfolio standards, energy efficiency standards)? \n",
      "\n",
      "Q7: What are the key challenges and opportunities for the carbon pricing policy in this country? \n",
      "\n",
      "Q8 (CHALLENGING): How does the carbon pricing policy align with the country's Nationally Determined Contribution (NDC) under the Paris Agreement? \n",
      "\n",
      "##ASSESSMENT CRITERIA \n",
      "\n",
      "A carbon pricing policy meets this criterion if it:\n",
      "* Covers at least 50% of the country's GHG emissions\n",
      "* Has a price level of at least $10/tCO2e\n",
      "* Generates revenue that is used to support low-carbon development\n",
      "* Is designed to be consistent with the country's NDC under the Paris Agreement.\n",
      "Report approved and completed!\n"
     ]
    }
   ],
   "source": [
    "report = report_workflow.run_workflow(\"carbon pricing policies in Albania\")"
   ]
  }
 ],
 "metadata": {
  "kernelspec": {
   "display_name": ".venv",
   "language": "python",
   "name": "python3"
  },
  "language_info": {
   "codemirror_mode": {
    "name": "ipython",
    "version": 3
   },
   "file_extension": ".py",
   "mimetype": "text/x-python",
   "name": "python",
   "nbconvert_exporter": "python",
   "pygments_lexer": "ipython3",
   "version": "3.12.0"
  }
 },
 "nbformat": 4,
 "nbformat_minor": 5
}
