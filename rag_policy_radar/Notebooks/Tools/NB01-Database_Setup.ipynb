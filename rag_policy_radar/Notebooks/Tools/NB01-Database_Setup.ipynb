{
 "cells": [
  {
   "cell_type": "markdown",
   "id": "83736cf2",
   "metadata": {},
   "source": [
    "# 🤗 Database Setup\n",
    "\n",
    "This notebook is used to upload the Huggingface Climate Policy Radar dataset to a Postgres table.\n",
    "\n",
    "Refer to README.md for instructions on setting up the Postgres database."
   ]
  },
  {
   "cell_type": "code",
   "execution_count": 4,
   "id": "0dd415c7",
   "metadata": {},
   "outputs": [
    {
     "name": "stderr",
     "output_type": "stream",
     "text": [
      "/Users/jessiefung/Desktop/DS205/group-6-final-project/.venv/lib/python3.12/site-packages/fuzzywuzzy/fuzz.py:11: UserWarning: Using slow pure-python SequenceMatcher. Install python-Levenshtein to remove this warning\n",
      "  warnings.warn('Using slow pure-python SequenceMatcher. Install python-Levenshtein to remove this warning')\n"
     ]
    }
   ],
   "source": [
    "import os\n",
    "import regex as re\n",
    "from tqdm.notebook import tqdm\n",
    "import pandas as pd\n",
    "import numpy as np\n",
    "import pgai\n",
    "import torch\n",
    "import glob\n",
    "from transformers import AutoTokenizer, AutoModel, AutoModelForMaskedLM\n",
    "from datasets import load_dataset, Features, Value\n",
    "import sys\n",
    "\n",
    "# Add the project root directory to the Python path\n",
    "notebook_dir = os.path.dirname(os.path.abspath('__file__'))\n",
    "project_root = os.path.abspath(os.path.join(notebook_dir, '../..'))\n",
    "if project_root not in sys.path:\n",
    "    sys.path.insert(0, project_root)\n",
    "    print(f\"Added {project_root} to sys.path\")\n",
    "\n",
    "# Now import the functions from the root directory\n",
    "from scripts.retrieval.functions import store_database_batched"
   ]
  },
  {
   "cell_type": "markdown",
   "id": "bd2c7a37",
   "metadata": {},
   "source": [
    "## 1. Load the Huggingface dataset.\n",
    "\n",
    "To access this dataset, you need a Huggingface account.\n",
    "\n",
    "1. Input `huggingface-cli login` in the command line\n",
    "2. Paste your access token"
   ]
  },
  {
   "cell_type": "code",
   "execution_count": 2,
   "id": "e4b6dc7b",
   "metadata": {},
   "outputs": [
    {
     "data": {
      "application/vnd.jupyter.widget-view+json": {
       "model_id": "8bf577c06e0d4656ae18071e62720bef",
       "version_major": 2,
       "version_minor": 0
      },
      "text/plain": [
       "Resolving data files:   0%|          | 0/23 [00:00<?, ?it/s]"
      ]
     },
     "metadata": {},
     "output_type": "display_data"
    },
    {
     "data": {
      "application/vnd.jupyter.widget-view+json": {
       "model_id": "563502d29ffe426c9b4cf39c14106397",
       "version_major": 2,
       "version_minor": 0
      },
      "text/plain": [
       "Loading dataset shards:   0%|          | 0/42 [00:00<?, ?it/s]"
      ]
     },
     "metadata": {},
     "output_type": "display_data"
    }
   ],
   "source": [
    "ds = load_dataset(\"ClimatePolicyRadar/all-document-text-data\")\n",
    "ds = ds[\"train\"]\n",
    "flat_ds = ds.flatten()"
   ]
  },
  {
   "cell_type": "markdown",
   "id": "c3982d64",
   "metadata": {},
   "source": [
    "## 2. Save all chunks into the \"climate_policy_radar\" table.\n",
    "\n",
    "The table contains all documents from the Climate Policy Radar dataset, with each row representing a chunk and all associated metadata stored in individual columns."
   ]
  },
  {
   "cell_type": "code",
   "execution_count": 3,
   "id": "95099b91",
   "metadata": {},
   "outputs": [
    {
     "data": {
      "application/vnd.jupyter.widget-view+json": {
       "model_id": "bf7e56101f0e4988b9345887ec4409cf",
       "version_major": 2,
       "version_minor": 0
      },
      "text/plain": [
       "Inserting chunks into database:   0%|          | 0/180 [00:00<?, ?it/s]"
      ]
     },
     "metadata": {},
     "output_type": "display_data"
    }
   ],
   "source": [
    "store_database_batched(flat_ds, num_chunks=len(flat_ds))"
   ]
  }
 ],
 "metadata": {
  "kernelspec": {
   "display_name": ".venv",
   "language": "python",
   "name": "python3"
  },
  "language_info": {
   "codemirror_mode": {
    "name": "ipython",
    "version": 3
   },
   "file_extension": ".py",
   "mimetype": "text/x-python",
   "name": "python",
   "nbconvert_exporter": "python",
   "pygments_lexer": "ipython3",
   "version": "3.12.0"
  }
 },
 "nbformat": 4,
 "nbformat_minor": 5
}
