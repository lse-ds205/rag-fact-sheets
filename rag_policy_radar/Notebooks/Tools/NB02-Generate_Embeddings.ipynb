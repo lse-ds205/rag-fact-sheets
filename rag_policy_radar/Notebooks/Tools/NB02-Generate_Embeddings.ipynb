{
 "cells": [
  {
   "cell_type": "markdown",
   "id": "6a8a6d82",
   "metadata": {},
   "source": [
    "# Embeddings Generation\n",
    "\n",
    "**What:**  \n",
    "This notebook focuses on generating vector embeddings using the ClimateBERT and the Word2Vec models. \n",
    "\n",
    "**Why:**  \n",
    "Embeddings transform raw text into numerical representations that capture semantic meanings, enabling effective downstream tasks such as information retrieval and similarity/search. Generating accurate embeddings is crucial to improve the performance of these applications.\n",
    "\n",
    "**How:**  \n",
    "- We will first utilise the huggingface dataset and download and load the pretrained ClimateBERT and Word2Vec models.\n",
    "- The ClimateBERT model should already covers sufficient climate-related vocabulary. We will verify whether Word2Vec covers these terms adequately and retrain it if necessary.\n",
    "- Then, we will process the text data by applying these models to generate embeddings for each document or text chunk.  \n",
    "- Finally, the generated embeddings will be stored in a new table in the PostgreSQL database for efficient retrieval and use in subsequent notebooks for information retrieval and other tasks.\n",
    "\n",
    "This approach leverages knowledge from lecture topics including transformer-based contextual embeddings, static word vectors, and database management systems.\n"
   ]
  },
  {
   "cell_type": "markdown",
   "id": "3d8edf8c",
   "metadata": {},
   "source": [
    "First, we will need to import necessary modules and functions from `functions.py`"
   ]
  },
  {
   "cell_type": "code",
   "execution_count": 3,
   "id": "f71e567c",
   "metadata": {},
   "outputs": [
    {
     "name": "stdout",
     "output_type": "stream",
     "text": [
      "Loading .env from: /Users/jessiefung/Desktop/DS205/group-6-final-project/.env\n"
     ]
    }
   ],
   "source": [
    "# Necessary imports\n",
    "import os\n",
    "import regex as re\n",
    "from tqdm.notebook import tqdm\n",
    "from dotenv import load_dotenv\n",
    "import pandas as pd\n",
    "import numpy as np\n",
    "import pgai\n",
    "import torch\n",
    "import glob\n",
    "import sys\n",
    "from datasets import load_dataset, Features, Value\n",
    "\n",
    "from transformers import AutoTokenizer, AutoModel, AutoModelForMaskedLM\n",
    "\n",
    "tqdm.pandas() #check if i should put it here\n",
    "\n",
    "from sqlalchemy import create_engine, text\n",
    "from sqlalchemy.orm import sessionmaker\n",
    "\n",
    "#word2vec model imports\n",
    "import psycopg2\n",
    "from gensim.models import KeyedVectors\n",
    "from gensim.downloader import load\n",
    "from gensim.utils import simple_preprocess\n",
    "from collections import Counter\n",
    "from gensim.models import Word2Vec\n",
    "\n",
    "\n",
    "# Get the absolute path to the project root directory\n",
    "notebook_dir = os.path.dirname(os.path.abspath('__file__'))\n",
    "project_root = os.path.abspath(os.path.join(notebook_dir, '../..'))\n",
    "if project_root not in sys.path:\n",
    "    sys.path.insert(0, project_root)\n",
    "    print(f\"Added {project_root} to sys.path\")\n",
    "\n",
    "# Load environment variables first\n",
    "env_path = os.path.join(project_root, '.env')\n",
    "load_dotenv(dotenv_path=env_path)\n",
    "print(f\"Loading .env from: {env_path}\")\n",
    "\n",
    "# Now create the database connection engine\n",
    "engine = create_engine(os.getenv(\"DB_URL\"))\n",
    "\n",
    "#create session\n",
    "Session = sessionmaker(bind=engine)\n",
    "session = Session()\n",
    "\n",
    "# Importing project functions\n",
    "from scripts.retrieval.functions import load_climatebert_model, embed_and_store_all_embeddings, train_custom_word2vec_from_texts, download_climatebert_model, download_word2vec_model"
   ]
  },
  {
   "cell_type": "markdown",
   "id": "c802840d",
   "metadata": {},
   "source": [
    "## 1. Read the data from the database\n",
    "\n",
    "Read the data from the database so it's easier to access the data stored in the **climate_policy_radar** table."
   ]
  },
  {
   "cell_type": "code",
   "execution_count": 6,
   "id": "df9578b0",
   "metadata": {},
   "outputs": [
    {
     "data": {
      "text/html": [
       "<div>\n",
       "<style scoped>\n",
       "    .dataframe tbody tr th:only-of-type {\n",
       "        vertical-align: middle;\n",
       "    }\n",
       "\n",
       "    .dataframe tbody tr th {\n",
       "        vertical-align: top;\n",
       "    }\n",
       "\n",
       "    .dataframe thead th {\n",
       "        text-align: right;\n",
       "    }\n",
       "</style>\n",
       "<table border=\"1\" class=\"dataframe\">\n",
       "  <thead>\n",
       "    <tr style=\"text-align: right;\">\n",
       "      <th></th>\n",
       "      <th>document_id</th>\n",
       "      <th>document_metadata.collection_summary</th>\n",
       "      <th>document_metadata.collection_title</th>\n",
       "      <th>document_metadata.corpus_type_name</th>\n",
       "      <th>document_metadata.corpus_import_id</th>\n",
       "      <th>document_metadata.category</th>\n",
       "      <th>document_metadata.description</th>\n",
       "      <th>document_metadata.document_title</th>\n",
       "      <th>document_metadata.family_import_id</th>\n",
       "      <th>document_metadata.family_slug</th>\n",
       "      <th>...</th>\n",
       "      <th>pipeline_metadata.parser_metadata.azure_model_id</th>\n",
       "      <th>pipeline_metadata.parser_metadata.parsing_date</th>\n",
       "      <th>text_block.text_block_id</th>\n",
       "      <th>text_block.language</th>\n",
       "      <th>text_block.type</th>\n",
       "      <th>text_block.type_confidence</th>\n",
       "      <th>text_block.coords</th>\n",
       "      <th>text_block.page_number</th>\n",
       "      <th>text_block.text</th>\n",
       "      <th>text_block.index</th>\n",
       "    </tr>\n",
       "  </thead>\n",
       "  <tbody>\n",
       "    <tr>\n",
       "      <th>0</th>\n",
       "      <td>UNFCCC.document.i00000693.n0000</td>\n",
       "      <td>None</td>\n",
       "      <td>None</td>\n",
       "      <td>Intl. agreements</td>\n",
       "      <td>UNFCCC.corpus.i00000001.n0000</td>\n",
       "      <td>UNFCCC</td>\n",
       "      <td>&lt;p&gt;Monaco Biennial Transparency Report. BTR1&lt;/p&gt;</td>\n",
       "      <td>Monaco Biennial Transparency Report. BTR1</td>\n",
       "      <td>UNFCCC.family.i00000692.n0000</td>\n",
       "      <td>monaco-biennial-transparency-report-btr1_3c56</td>\n",
       "      <td>...</td>\n",
       "      <td>prebuilt-document</td>\n",
       "      <td>2025-03-12T09:16:51.073287</td>\n",
       "      <td>11387</td>\n",
       "      <td>en</td>\n",
       "      <td>TableCell</td>\n",
       "      <td>1.0</td>\n",
       "      <td>{{220.824,226.2024},{253.8936,226.2024},{253.8...</td>\n",
       "      <td>288.0</td>\n",
       "      <td>34,4€</td>\n",
       "      <td>11387</td>\n",
       "    </tr>\n",
       "    <tr>\n",
       "      <th>1</th>\n",
       "      <td>UNFCCC.document.i00000693.n0000</td>\n",
       "      <td>None</td>\n",
       "      <td>None</td>\n",
       "      <td>Intl. agreements</td>\n",
       "      <td>UNFCCC.corpus.i00000001.n0000</td>\n",
       "      <td>UNFCCC</td>\n",
       "      <td>&lt;p&gt;Monaco Biennial Transparency Report. BTR1&lt;/p&gt;</td>\n",
       "      <td>Monaco Biennial Transparency Report. BTR1</td>\n",
       "      <td>UNFCCC.family.i00000692.n0000</td>\n",
       "      <td>monaco-biennial-transparency-report-btr1_3c56</td>\n",
       "      <td>...</td>\n",
       "      <td>prebuilt-document</td>\n",
       "      <td>2025-03-12T09:16:51.073287</td>\n",
       "      <td>11412</td>\n",
       "      <td>en</td>\n",
       "      <td>TableCell</td>\n",
       "      <td>1.0</td>\n",
       "      <td>{{220.824,269.4096},{253.8936,269.4096},{253.8...</td>\n",
       "      <td>288.0</td>\n",
       "      <td>0.01</td>\n",
       "      <td>11412</td>\n",
       "    </tr>\n",
       "    <tr>\n",
       "      <th>2</th>\n",
       "      <td>UNFCCC.document.i00000693.n0000</td>\n",
       "      <td>None</td>\n",
       "      <td>None</td>\n",
       "      <td>Intl. agreements</td>\n",
       "      <td>UNFCCC.corpus.i00000001.n0000</td>\n",
       "      <td>UNFCCC</td>\n",
       "      <td>&lt;p&gt;Monaco Biennial Transparency Report. BTR1&lt;/p&gt;</td>\n",
       "      <td>Monaco Biennial Transparency Report. BTR1</td>\n",
       "      <td>UNFCCC.family.i00000692.n0000</td>\n",
       "      <td>monaco-biennial-transparency-report-btr1_3c56</td>\n",
       "      <td>...</td>\n",
       "      <td>prebuilt-document</td>\n",
       "      <td>2025-03-12T09:16:51.073287</td>\n",
       "      <td>11445</td>\n",
       "      <td>en</td>\n",
       "      <td>TableCell</td>\n",
       "      <td>1.0</td>\n",
       "      <td>{{220.824,312.6168},{253.8936,312.6168},{253.8...</td>\n",
       "      <td>288.0</td>\n",
       "      <td>NO</td>\n",
       "      <td>11445</td>\n",
       "    </tr>\n",
       "    <tr>\n",
       "      <th>3</th>\n",
       "      <td>UNFCCC.document.i00000693.n0000</td>\n",
       "      <td>None</td>\n",
       "      <td>None</td>\n",
       "      <td>Intl. agreements</td>\n",
       "      <td>UNFCCC.corpus.i00000001.n0000</td>\n",
       "      <td>UNFCCC</td>\n",
       "      <td>&lt;p&gt;Monaco Biennial Transparency Report. BTR1&lt;/p&gt;</td>\n",
       "      <td>Monaco Biennial Transparency Report. BTR1</td>\n",
       "      <td>UNFCCC.family.i00000692.n0000</td>\n",
       "      <td>monaco-biennial-transparency-report-btr1_3c56</td>\n",
       "      <td>...</td>\n",
       "      <td>prebuilt-document</td>\n",
       "      <td>2025-03-12T09:16:51.073287</td>\n",
       "      <td>11478</td>\n",
       "      <td>en</td>\n",
       "      <td>TableCell</td>\n",
       "      <td>1.0</td>\n",
       "      <td>{{320.04,346.8096},{353.1096,346.8096},{353.10...</td>\n",
       "      <td>288.0</td>\n",
       "      <td>NO</td>\n",
       "      <td>11478</td>\n",
       "    </tr>\n",
       "    <tr>\n",
       "      <th>4</th>\n",
       "      <td>UNFCCC.document.i00000693.n0000</td>\n",
       "      <td>None</td>\n",
       "      <td>None</td>\n",
       "      <td>Intl. agreements</td>\n",
       "      <td>UNFCCC.corpus.i00000001.n0000</td>\n",
       "      <td>UNFCCC</td>\n",
       "      <td>&lt;p&gt;Monaco Biennial Transparency Report. BTR1&lt;/p&gt;</td>\n",
       "      <td>Monaco Biennial Transparency Report. BTR1</td>\n",
       "      <td>UNFCCC.family.i00000692.n0000</td>\n",
       "      <td>monaco-biennial-transparency-report-btr1_3c56</td>\n",
       "      <td>...</td>\n",
       "      <td>prebuilt-document</td>\n",
       "      <td>2025-03-12T09:16:51.073287</td>\n",
       "      <td>11569</td>\n",
       "      <td>en</td>\n",
       "      <td>TableCell</td>\n",
       "      <td>1.0</td>\n",
       "      <td>{{220.824,519.2568},{253.8936,519.2568},{253.8...</td>\n",
       "      <td>288.0</td>\n",
       "      <td>NO</td>\n",
       "      <td>11569</td>\n",
       "    </tr>\n",
       "  </tbody>\n",
       "</table>\n",
       "<p>5 rows × 47 columns</p>\n",
       "</div>"
      ],
      "text/plain": [
       "                       document_id document_metadata.collection_summary  \\\n",
       "0  UNFCCC.document.i00000693.n0000                                 None   \n",
       "1  UNFCCC.document.i00000693.n0000                                 None   \n",
       "2  UNFCCC.document.i00000693.n0000                                 None   \n",
       "3  UNFCCC.document.i00000693.n0000                                 None   \n",
       "4  UNFCCC.document.i00000693.n0000                                 None   \n",
       "\n",
       "  document_metadata.collection_title document_metadata.corpus_type_name  \\\n",
       "0                               None                   Intl. agreements   \n",
       "1                               None                   Intl. agreements   \n",
       "2                               None                   Intl. agreements   \n",
       "3                               None                   Intl. agreements   \n",
       "4                               None                   Intl. agreements   \n",
       "\n",
       "  document_metadata.corpus_import_id document_metadata.category  \\\n",
       "0      UNFCCC.corpus.i00000001.n0000                     UNFCCC   \n",
       "1      UNFCCC.corpus.i00000001.n0000                     UNFCCC   \n",
       "2      UNFCCC.corpus.i00000001.n0000                     UNFCCC   \n",
       "3      UNFCCC.corpus.i00000001.n0000                     UNFCCC   \n",
       "4      UNFCCC.corpus.i00000001.n0000                     UNFCCC   \n",
       "\n",
       "                      document_metadata.description  \\\n",
       "0  <p>Monaco Biennial Transparency Report. BTR1</p>   \n",
       "1  <p>Monaco Biennial Transparency Report. BTR1</p>   \n",
       "2  <p>Monaco Biennial Transparency Report. BTR1</p>   \n",
       "3  <p>Monaco Biennial Transparency Report. BTR1</p>   \n",
       "4  <p>Monaco Biennial Transparency Report. BTR1</p>   \n",
       "\n",
       "            document_metadata.document_title  \\\n",
       "0  Monaco Biennial Transparency Report. BTR1   \n",
       "1  Monaco Biennial Transparency Report. BTR1   \n",
       "2  Monaco Biennial Transparency Report. BTR1   \n",
       "3  Monaco Biennial Transparency Report. BTR1   \n",
       "4  Monaco Biennial Transparency Report. BTR1   \n",
       "\n",
       "  document_metadata.family_import_id  \\\n",
       "0      UNFCCC.family.i00000692.n0000   \n",
       "1      UNFCCC.family.i00000692.n0000   \n",
       "2      UNFCCC.family.i00000692.n0000   \n",
       "3      UNFCCC.family.i00000692.n0000   \n",
       "4      UNFCCC.family.i00000692.n0000   \n",
       "\n",
       "                   document_metadata.family_slug  ...  \\\n",
       "0  monaco-biennial-transparency-report-btr1_3c56  ...   \n",
       "1  monaco-biennial-transparency-report-btr1_3c56  ...   \n",
       "2  monaco-biennial-transparency-report-btr1_3c56  ...   \n",
       "3  monaco-biennial-transparency-report-btr1_3c56  ...   \n",
       "4  monaco-biennial-transparency-report-btr1_3c56  ...   \n",
       "\n",
       "  pipeline_metadata.parser_metadata.azure_model_id  \\\n",
       "0                                prebuilt-document   \n",
       "1                                prebuilt-document   \n",
       "2                                prebuilt-document   \n",
       "3                                prebuilt-document   \n",
       "4                                prebuilt-document   \n",
       "\n",
       "  pipeline_metadata.parser_metadata.parsing_date text_block.text_block_id  \\\n",
       "0                     2025-03-12T09:16:51.073287                    11387   \n",
       "1                     2025-03-12T09:16:51.073287                    11412   \n",
       "2                     2025-03-12T09:16:51.073287                    11445   \n",
       "3                     2025-03-12T09:16:51.073287                    11478   \n",
       "4                     2025-03-12T09:16:51.073287                    11569   \n",
       "\n",
       "  text_block.language text_block.type text_block.type_confidence  \\\n",
       "0                  en       TableCell                        1.0   \n",
       "1                  en       TableCell                        1.0   \n",
       "2                  en       TableCell                        1.0   \n",
       "3                  en       TableCell                        1.0   \n",
       "4                  en       TableCell                        1.0   \n",
       "\n",
       "                                   text_block.coords text_block.page_number  \\\n",
       "0  {{220.824,226.2024},{253.8936,226.2024},{253.8...                  288.0   \n",
       "1  {{220.824,269.4096},{253.8936,269.4096},{253.8...                  288.0   \n",
       "2  {{220.824,312.6168},{253.8936,312.6168},{253.8...                  288.0   \n",
       "3  {{320.04,346.8096},{353.1096,346.8096},{353.10...                  288.0   \n",
       "4  {{220.824,519.2568},{253.8936,519.2568},{253.8...                  288.0   \n",
       "\n",
       "  text_block.text text_block.index  \n",
       "0           34,4€            11387  \n",
       "1            0.01            11412  \n",
       "2              NO            11445  \n",
       "3              NO            11478  \n",
       "4              NO            11569  \n",
       "\n",
       "[5 rows x 47 columns]"
      ]
     },
     "execution_count": 6,
     "metadata": {},
     "output_type": "execute_result"
    }
   ],
   "source": [
    "# Read the table\n",
    "df = pd.read_sql_query(\n",
    "'''\n",
    "SELECT * FROM climate_policy_radar WHERE \"document_metadata.geographies\" ~ 'MCO'\n",
    "'''\n",
    ", engine)\n",
    "df.head()"
   ]
  },
  {
   "cell_type": "code",
   "execution_count": 7,
   "id": "8ef5e7e7",
   "metadata": {},
   "outputs": [
    {
     "data": {
      "text/plain": [
       "170360"
      ]
     },
     "execution_count": 7,
     "metadata": {},
     "output_type": "execute_result"
    }
   ],
   "source": [
    "len(df)"
   ]
  },
  {
   "cell_type": "markdown",
   "id": "421c3320",
   "metadata": {},
   "source": [
    "## 2. Embeddings generation\n",
    "\n",
    "### 2.1 Download and load **ClimateBERT**\n",
    "\n",
    "The code below will download and load the ClimateBERT model."
   ]
  },
  {
   "cell_type": "code",
   "execution_count": 2,
   "id": "cced8676",
   "metadata": {},
   "outputs": [
    {
     "name": "stderr",
     "output_type": "stream",
     "text": [
      "/Users/jessiefung/Desktop/DS205/group-6-final-project/.venv/lib/python3.12/site-packages/transformers/models/auto/tokenization_auto.py:898: FutureWarning: The `use_auth_token` argument is deprecated and will be removed in v5 of Transformers. Please use `token` instead.\n",
      "  warnings.warn(\n",
      "/Users/jessiefung/Desktop/DS205/group-6-final-project/.venv/lib/python3.12/site-packages/transformers/models/auto/auto_factory.py:476: FutureWarning: The `use_auth_token` argument is deprecated and will be removed in v5 of Transformers. Please use `token` instead.\n",
      "  warnings.warn(\n",
      "Some weights of RobertaModel were not initialized from the model checkpoint at climatebert/distilroberta-base-climate-f and are newly initialized: ['pooler.dense.bias', 'pooler.dense.weight']\n",
      "You should probably TRAIN this model on a down-stream task to be able to use it for predictions and inference.\n"
     ]
    },
    {
     "name": "stdout",
     "output_type": "stream",
     "text": [
      "ClimateBERT model and tokenizer downloaded and saved to /Users/jessiefung/Desktop/DS205/group-6-final-project/local_model/climatebert/distilroberta-base-climate-f\n"
     ]
    }
   ],
   "source": [
    "# Download and the ClimateBERT model\n",
    "download_climatebert_model()\n",
    "\n",
    "#Loading the ClimateBERT model and tokenizer\n",
    "tokenizer, model = load_climatebert_model()"
   ]
  },
  {
   "cell_type": "markdown",
   "id": "6256326f",
   "metadata": {},
   "source": [
    "### 2.2 Download and load **Word2Vec**\n",
    "\n",
    "This Word2Vec model is untrained. We will check if training is necessary and use the trained model if needed."
   ]
  },
  {
   "cell_type": "code",
   "execution_count": null,
   "id": "da1fbffb",
   "metadata": {},
   "outputs": [
    {
     "name": "stdout",
     "output_type": "stream",
     "text": [
      "🔄 Loading pretrained Word2Vec model: word2vec-google-news-300\n",
      "✅ Model loaded!\n"
     ]
    }
   ],
   "source": [
    "#Download and load the pretrained Word2Vec model\n",
    "word2vec_model = download_word2vec_model()"
   ]
  },
  {
   "cell_type": "markdown",
   "id": "5182e84d",
   "metadata": {},
   "source": [
    "Now check if the pre-trained Word2Vec model is able to cover climate-specific words in the climate policy radar. If they cannot be covered we would have to train the Word2Vec model."
   ]
  },
  {
   "cell_type": "code",
   "execution_count": null,
   "id": "ce9741de",
   "metadata": {},
   "outputs": [
    {
     "name": "stdout",
     "output_type": "stream",
     "text": [
      "❌ Top OOV words not in Word2Vec:\n",
      "of: 3358\n",
      "and: 2563\n",
      "to: 1564\n",
      "albania: 310\n",
      "albanian: 159\n",
      "dcm: 144\n",
      "wem: 136\n",
      "necp: 79\n",
      "modelling: 72\n",
      "ktoe: 69\n",
      "implem: 57\n",
      "meur: 43\n",
      "tirana: 41\n",
      "ghgs: 33\n",
      "gwp: 33\n",
      "adriatic: 32\n",
      "montenegro: 28\n",
      "oshee: 23\n",
      "vlora: 23\n",
      "albgaz: 23\n",
      "pams: 18\n",
      "neeap: 17\n",
      "mva: 17\n",
      "lulucf: 17\n",
      "unfccc: 16\n",
      "aee: 15\n",
      "ionian: 15\n",
      "ippu: 15\n",
      "programme: 15\n",
      "smes: 14\n",
      "entso: 13\n",
      "instat: 13\n",
      "tpes: 13\n",
      "wbif: 13\n",
      "alkogap: 12\n",
      "gwh: 12\n",
      "elbasan: 12\n",
      "hfc: 12\n",
      "ktco: 11\n",
      "labelling: 10\n",
      "dumrea: 10\n",
      "hpp: 9\n",
      "iap: 9\n",
      "mmr: 9\n",
      "nzeb: 9\n",
      "balkans: 9\n",
      "escos: 9\n",
      "ebrd: 8\n",
      "kfw: 8\n",
      "mte: 8\n"
     ]
    }
   ],
   "source": [
    "query = \"\"\"\n",
    "SELECT \"text_block.text\"\n",
    "FROM climate_policy_radar\n",
    "WHERE \"text_block.text\" IS NOT NULL\n",
    "LIMIT 10000;\n",
    "\"\"\"\n",
    "\n",
    "df = pd.read_sql_query(query, engine)\n",
    "\n",
    "# 3. Tokenize and gather all unique words\n",
    "all_tokens = []\n",
    "for text in df['text_block.text']:\n",
    "    tokens = simple_preprocess(text)\n",
    "    all_tokens.extend(tokens)\n",
    "\n",
    "# 4. Compare to Word2Vec vocabulary\n",
    "vocab = set(word2vec_model.key_to_index)\n",
    "oov_words = [token for token in all_tokens if token not in vocab]\n",
    "\n",
    "# 5. Count top missing words\n",
    "oov_counter = Counter(oov_words)\n",
    "most_common_oov = oov_counter.most_common(50)\n",
    "\n",
    "# 6. Display\n",
    "print(\"❌ Top OOV words not in Word2Vec:\")\n",
    "for word, count in most_common_oov:\n",
    "    print(f\"{word}: {count}\")\n"
   ]
  },
  {
   "cell_type": "markdown",
   "id": "2e0dccfd",
   "metadata": {},
   "source": [
    "We can see there are some terms i.e. abbreviations and locations that are absent in word2vec. We'll train the model and also make sure the embeddings are in 768 dimension."
   ]
  },
  {
   "cell_type": "code",
   "execution_count": null,
   "id": "2b7987f9",
   "metadata": {},
   "outputs": [],
   "source": [
    "#use the function to train the model so the absent words can be added\n",
    "\n",
    "texts = df['text_block.text'].dropna().tolist()\n",
    "\n",
    "important_terms = [\n",
    "    \"albania\", \"albanian\", \"unfccc\", \"gwp\", \"ghgs\", \"necp\", \"modelling\", \"ktoe\", \n",
    "    \"tirana\", \"vlora\", \"adriatic\", \"ionian\", \"montenegro\", \"albgaz\", \"oshee\",\n",
    "    \"lulucf\", \"neeap\", \"wbif\", \"instat\", \"tpes\", \"gwh\", \"nzeb\", \"entso\", \"smes\"\n",
    "]\n",
    "\n",
    "model = train_custom_word2vec_from_texts(\n",
    "    texts=texts,\n",
    "    force_include_words=important_terms\n",
    ")\n"
   ]
  },
  {
   "cell_type": "code",
   "execution_count": 4,
   "id": "e2c97d30",
   "metadata": {},
   "outputs": [
    {
     "name": "stdout",
     "output_type": "stream",
     "text": [
      "✅ 'albania' in vocab | Dim: 768\n",
      "✅ 'unfccc' in vocab | Dim: 768\n",
      "✅ 'gwp' in vocab | Dim: 768\n",
      "✅ 'oshee' in vocab | Dim: 768\n",
      "✅ 'tirana' in vocab | Dim: 768\n",
      "✅ 'ktoe' in vocab | Dim: 768\n",
      "✅ 'neeap' in vocab | Dim: 768\n",
      "✅ 'smes' in vocab | Dim: 768\n"
     ]
    }
   ],
   "source": [
    "# DOUBLE CHECK IF THE MODEL IS LOADED CORRECTLY\n",
    "# Load model if needed\n",
    "\n",
    "model = Word2Vec.load(\"./local_model/custom_word2vec_768.model\")\n",
    "\n",
    "\n",
    "# List of words you want to check\n",
    "words_to_check = [\n",
    "    \"albania\", \"unfccc\", \"gwp\", \"oshee\", \"tirana\", \"ktoe\", \"neeap\", \"smes\"\n",
    "]\n",
    "\n",
    "# Check dimensionality and coverage\n",
    "for word in words_to_check:\n",
    "    if word in model.wv:\n",
    "        vec = model.wv[word]\n",
    "        print(f\"✅ '{word}' in vocab | Dim: {len(vec)}\")\n",
    "    else:\n",
    "        print(f\"❌ '{word}' NOT in vocabulary\")"
   ]
  },
  {
   "cell_type": "markdown",
   "id": "014f8ea8",
   "metadata": {},
   "source": [
    "## 3. Embedding all documents for all countries\n",
    "\n",
    "Generate embeddings for all documents and upload them into the database.\n",
    "\n",
    "**IMPORTANT THING TO DO BEFORE RUNNING THE CODE BELOW:**\n",
    "\n",
    "A new table is needed, this will be created through the `create_table.sql` file. Steps to run it:\n",
    "\n",
    "1. Go to `create_table.sql` and run the query to create the table\n",
    "2. Remember to select the Postgres Server at the bottom, and then highlight the code and right click to run query\n",
    "\n",
    "\n",
    "This will create a new table in the database. The file also includes a commented `DROP TABLE IF EXISTS document_embeddings;` line if the table does not appear. You can use it by uncommenting the line but try not to use it after the data are uploaded because it will drop all existing data. It should be used with cautious. After creating the table, then run the code below to generate embeddings and store them into the database.\n",
    "\n"
   ]
  },
  {
   "cell_type": "code",
   "execution_count": null,
   "id": "4000d3ef",
   "metadata": {},
   "outputs": [],
   "source": [
    "df=df[:50000]"
   ]
  },
  {
   "cell_type": "code",
   "execution_count": 13,
   "id": "f9f7c58e",
   "metadata": {},
   "outputs": [
    {
     "name": "stderr",
     "output_type": "stream",
     "text": [
      "/Users/jessiefung/Desktop/DS205/group-6-final-project/scripts/retrieval/functions.py:200: SettingWithCopyWarning: \n",
      "A value is trying to be set on a copy of a slice from a DataFrame.\n",
      "Try using .loc[row_indexer,col_indexer] = value instead\n",
      "\n",
      "See the caveats in the documentation: https://pandas.pydata.org/pandas-docs/stable/user_guide/indexing.html#returning-a-view-versus-a-copy\n",
      "  \n",
      "/Users/jessiefung/Desktop/DS205/group-6-final-project/scripts/retrieval/functions.py:203: SettingWithCopyWarning: \n",
      "A value is trying to be set on a copy of a slice from a DataFrame.\n",
      "Try using .loc[row_indexer,col_indexer] = value instead\n",
      "\n",
      "See the caveats in the documentation: https://pandas.pydata.org/pandas-docs/stable/user_guide/indexing.html#returning-a-view-versus-a-copy\n",
      "  country_codes = df[\"country_code\"].dropna().unique()\n"
     ]
    },
    {
     "data": {
      "application/vnd.jupyter.widget-view+json": {
       "model_id": "f069774c7cfb4930b4420ecf8729568a",
       "version_major": 2,
       "version_minor": 0
      },
      "text/plain": [
       "Filtering by country:   0%|          | 0/1 [00:00<?, ?it/s]"
      ]
     },
     "metadata": {},
     "output_type": "display_data"
    },
    {
     "data": {
      "application/vnd.jupyter.widget-view+json": {
       "model_id": "d514f891ecda46b6b48111cf53daf3a4",
       "version_major": 2,
       "version_minor": 0
      },
      "text/plain": [
       "Processing all countries:   0%|          | 0/1 [00:00<?, ?it/s]"
      ]
     },
     "metadata": {},
     "output_type": "display_data"
    },
    {
     "data": {
      "application/vnd.jupyter.widget-view+json": {
       "model_id": "362689249e3143049e40420c3ec813a6",
       "version_major": 2,
       "version_minor": 0
      },
      "text/plain": [
       "Embedding MCO:   0%|          | 0/5 [00:00<?, ?it/s]"
      ]
     },
     "metadata": {},
     "output_type": "display_data"
    },
    {
     "data": {
      "application/vnd.jupyter.widget-view+json": {
       "model_id": "8c54dbdc2e5147ed92f941a554459451",
       "version_major": 2,
       "version_minor": 0
      },
      "text/plain": [
       "  0%|          | 0/10000 [00:00<?, ?it/s]"
      ]
     },
     "metadata": {},
     "output_type": "display_data"
    },
    {
     "data": {
      "application/vnd.jupyter.widget-view+json": {
       "model_id": "514e4efbcde34d04827b174110630884",
       "version_major": 2,
       "version_minor": 0
      },
      "text/plain": [
       "  0%|          | 0/10000 [00:00<?, ?it/s]"
      ]
     },
     "metadata": {},
     "output_type": "display_data"
    },
    {
     "data": {
      "application/vnd.jupyter.widget-view+json": {
       "model_id": "97342877f768404bbe29b32689fee673",
       "version_major": 2,
       "version_minor": 0
      },
      "text/plain": [
       "  0%|          | 0/10000 [00:00<?, ?it/s]"
      ]
     },
     "metadata": {},
     "output_type": "display_data"
    },
    {
     "data": {
      "application/vnd.jupyter.widget-view+json": {
       "model_id": "8b206c6340d347969c85750f824cf682",
       "version_major": 2,
       "version_minor": 0
      },
      "text/plain": [
       "  0%|          | 0/10000 [00:00<?, ?it/s]"
      ]
     },
     "metadata": {},
     "output_type": "display_data"
    },
    {
     "data": {
      "application/vnd.jupyter.widget-view+json": {
       "model_id": "ae7dd63fdf3a49749a5f47df032ca721",
       "version_major": 2,
       "version_minor": 0
      },
      "text/plain": [
       "  0%|          | 0/10000 [00:00<?, ?it/s]"
      ]
     },
     "metadata": {},
     "output_type": "display_data"
    },
    {
     "data": {
      "application/vnd.jupyter.widget-view+json": {
       "model_id": "c6e8f6f2100d40e58eac927da0b2bb04",
       "version_major": 2,
       "version_minor": 0
      },
      "text/plain": [
       "  0%|          | 0/10000 [00:00<?, ?it/s]"
      ]
     },
     "metadata": {},
     "output_type": "display_data"
    },
    {
     "data": {
      "application/vnd.jupyter.widget-view+json": {
       "model_id": "5ce3ff2bab674413a047fa68ece7241c",
       "version_major": 2,
       "version_minor": 0
      },
      "text/plain": [
       "  0%|          | 0/10000 [00:00<?, ?it/s]"
      ]
     },
     "metadata": {},
     "output_type": "display_data"
    },
    {
     "data": {
      "application/vnd.jupyter.widget-view+json": {
       "model_id": "8f003537594842df90398a401982b302",
       "version_major": 2,
       "version_minor": 0
      },
      "text/plain": [
       "  0%|          | 0/10000 [00:00<?, ?it/s]"
      ]
     },
     "metadata": {},
     "output_type": "display_data"
    },
    {
     "data": {
      "application/vnd.jupyter.widget-view+json": {
       "model_id": "5529efd39c7c4f19b1c282e53a6e10a4",
       "version_major": 2,
       "version_minor": 0
      },
      "text/plain": [
       "  0%|          | 0/10000 [00:00<?, ?it/s]"
      ]
     },
     "metadata": {},
     "output_type": "display_data"
    },
    {
     "data": {
      "application/vnd.jupyter.widget-view+json": {
       "model_id": "d33fbdb7df2e43979b59f5fc228b8c64",
       "version_major": 2,
       "version_minor": 0
      },
      "text/plain": [
       "  0%|          | 0/10000 [00:00<?, ?it/s]"
      ]
     },
     "metadata": {},
     "output_type": "display_data"
    },
    {
     "data": {
      "application/vnd.jupyter.widget-view+json": {
       "model_id": "dd0c359d37c746acbc3f50d01840b93e",
       "version_major": 2,
       "version_minor": 0
      },
      "text/plain": [
       "Uploading MCO:   0%|          | 0/50000 [00:00<?, ?it/s]"
      ]
     },
     "metadata": {},
     "output_type": "display_data"
    },
    {
     "name": "stdout",
     "output_type": "stream",
     "text": [
      "\n",
      "✅ All ClimateBERT and Word2Vec embeddings uploaded directly.\n"
     ]
    }
   ],
   "source": [
    "#Embedding and storing all embeddings in the database\n",
    "\n",
    "embed_and_store_all_embeddings(df, engine)\n"
   ]
  }
 ],
 "metadata": {
  "kernelspec": {
   "display_name": "project-env",
   "language": "python",
   "name": "python3"
  },
  "language_info": {
   "codemirror_mode": {
    "name": "ipython",
    "version": 3
   },
   "file_extension": ".py",
   "mimetype": "text/x-python",
   "name": "python",
   "nbconvert_exporter": "python",
   "pygments_lexer": "ipython3",
   "version": "3.12.4"
  }
 },
 "nbformat": 4,
 "nbformat_minor": 5
}
