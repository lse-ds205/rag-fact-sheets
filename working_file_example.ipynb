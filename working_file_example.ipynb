{
 "cells": [
  {
   "cell_type": "markdown",
   "metadata": {},
   "source": [
    "# Set-up"
   ]
  },
  {
   "cell_type": "code",
   "execution_count": 4,
   "metadata": {},
   "outputs": [],
   "source": [
    "import sys\n",
    "import os\n",
    "from pathlib import Path\n",
    "import logging\n",
    "from pprint import pprint\n",
    "from sqlalchemy import create_engine, text, func\n",
    "from sqlalchemy.orm import declarative_base, relationship, sessionmaker\n",
    "\n",
    "logging.basicConfig(level=logging.INFO,\n",
    "                    format='%(asctime)s - %(filename)s - %(levelname)s - %(message)s',\n",
    "                    handlers=[logging.StreamHandler(sys.stdout)])\n",
    "logger = logging.getLogger()\n",
    "\n",
    "project_root = Path(os.getcwd()).resolve().parents[1]\n",
    "sys.path.insert(0, str(project_root))\n",
    "import group4py\n",
    "\n",
    "# Functions that you want to test/work on\n",
    "#from docchunk import DocChunk, Embedding\n",
    "#from helpers import Test, TaskInfo, Logger"
   ]
  },
  {
   "cell_type": "code",
   "execution_count": 5,
   "metadata": {},
   "outputs": [],
   "source": [
    "import requests\n",
    "from requests.exceptions import RequestException\n",
    "from urllib.parse import urlparse\n",
    "import json\n",
    "from time import sleep\n",
    "from pprint import pprint\n",
    "# Additional imports if needed for specific HTTP request handling\n",
    "from tqdm import tqdm  # For progress bars if needed"
   ]
  },
  {
   "cell_type": "code",
   "execution_count": 8,
   "metadata": {},
   "outputs": [
    {
     "name": "stdout",
     "output_type": "stream",
     "text": [
      "<bound method Response.json of <Response [200]>>\n"
     ]
    },
    {
     "data": {
      "text/plain": [
       "'<html style=\"height:100%\"><head><META NAME=\"ROBOTS\" CONTENT=\"NOINDEX, NOFOLLOW\"><meta name=\"format-detection\" content=\"telephone=no\"><meta name=\"viewport\" content=\"initial-scale=1.0\"><meta http-equiv=\"X-UA-Compatible\" content=\"IE=edge,chrome=1\"><script type=\"text/javascript\" src=\"/_Incapsula_Resource?SWJIYLWA=719d34d31c8e3a6e6fffd425f7e032f3\"></script></head><body style=\"margin:0px;height:100%\"><iframe id=\"main-iframe\" src=\"/_Incapsula_Resource?SWUDNSAI=31&xinfo=13-94542570-0%202cNN%20RT%281748016538697%208109%29%20q%280%20-1%20-1%200%29%20r%280%20-1%29%20B12%284%2c315%2c0%29&incident_id=198000260131277796-390830960113223309&edet=12&cinfo=04000000&rpinfo=0&cts=FH1wrLO7efptEuDjHOrQMk38pUoTf7zrW3FUCHz7ZjO%2bwNoOwyvpOanL5UnVBZVx&mth=GET\" frameborder=0 width=\"100%\" height=\"100%\" marginheight=\"0px\" marginwidth=\"0px\">Request unsuccessful. Incapsula incident ID: 198000260131277796-390830960113223309</iframe></body></html>'"
      ]
     },
     "execution_count": 8,
     "metadata": {},
     "output_type": "execute_result"
    }
   ],
   "source": [
    "s = requests.Session()\n",
    "\n",
    "response = s.get(\"https://unfccc.int/NDCREG\")\n",
    "\n",
    "pprint(response.json)\n",
    "response.text"
   ]
  },
  {
   "cell_type": "markdown",
   "metadata": {},
   "source": [
    "### E.g. Testing a function"
   ]
  },
  {
   "cell_type": "code",
   "execution_count": null,
   "metadata": {},
   "outputs": [
    {
     "name": "stdout",
     "output_type": "stream",
     "text": [
      "[{'key1': 'value1',\n",
      "  'key2': 42,\n",
      "  'key3': [1, 2, 3],\n",
      "  'key4': {'nested_key': 'nested_value'}},\n",
      " {'key1': 'value1',\n",
      "  'key2': 42,\n",
      "  'key3': [1, 2, 3],\n",
      "  'key4': {'nested_key': 'nested_value'}},\n",
      " {'key1': 'value1',\n",
      "  'key2': 42,\n",
      "  'key3': [1, 2, 3],\n",
      "  'key4': {'nested_key': 'nested_value'}}]\n"
     ]
    }
   ],
   "source": [
    "pprint(DocChunk().chunking_function(None))"
   ]
  },
  {
   "cell_type": "markdown",
   "metadata": {},
   "source": [
    "### E.g. Forcing an output in a specific format"
   ]
  },
  {
   "cell_type": "code",
   "execution_count": 3,
   "metadata": {},
   "outputs": [
    {
     "name": "stdout",
     "output_type": "stream",
     "text": [
      "['I am dummy chunk 1', 'I am dummy chunk 2', 'I am dummy chunk 3']\n"
     ]
    }
   ],
   "source": [
    "@Test.dummy_chunk()\n",
    "def one_plus_one():\n",
    "    return 1 + 1\n",
    "\n",
    "pprint(one_plus_one())"
   ]
  },
  {
   "cell_type": "markdown",
   "metadata": {},
   "source": [
    "### E.g. Forcing an input in a specific format"
   ]
  },
  {
   "cell_type": "code",
   "execution_count": 5,
   "metadata": {},
   "outputs": [
    {
     "name": "stdout",
     "output_type": "stream",
     "text": [
      "2\n"
     ]
    }
   ],
   "source": [
    "@Test.force_input(1)\n",
    "def number_plus_one(number):\n",
    "    return number + 1\n",
    "\n",
    "number = \"I don't have this number yet\"\n",
    "pprint(number_plus_one(number))"
   ]
  },
  {
   "cell_type": "markdown",
   "metadata": {},
   "source": [
    "### Example use of decorators\n",
    "- Rui Kai is working on this function\n",
    "- He wants to let others know that this function has been completed\n",
    "- I want to log outputs of everything related to this function in a specific file"
   ]
  },
  {
   "cell_type": "code",
   "execution_count": 6,
   "metadata": {},
   "outputs": [],
   "source": [
    "@TaskInfo.ruikai()\n",
    "@TaskInfo.completed()\n",
    "@Logger.log(log_file=Path(\"logs/test.log\"), log_level=\"INFO\")\n",
    "def some_complicated_function_that_calls_other_functions():\n",
    "    object().some_complicated_operations()\n",
    "    pass"
   ]
  },
  {
   "cell_type": "markdown",
   "metadata": {},
   "source": [
    "## Create Vector Similarity Indices"
   ]
  },
  {
   "cell_type": "code",
   "execution_count": 9,
   "metadata": {},
   "outputs": [],
   "source": [
    "db_url = os.getenv('DATABASE_URL')\n",
    "\n",
    "engine = create_engine(db_url)\n",
    "Session = sessionmaker(bind=engine)\n",
    "\n",
    "with engine.connect() as conn:\n",
    "    # Create the pgvector extension if it doesn't exist\n",
    "    conn.execute(text(\"CREATE EXTENSION IF NOT EXISTS vector\"))\n",
    "    \n",
    "    # Convert transformer_embedding column to vector type\n",
    "    conn.execute(text(\"\"\"\n",
    "        ALTER TABLE doc_chunks \n",
    "        ALTER COLUMN transformer_embedding TYPE vector(768)\n",
    "        USING transformer_embedding::vector(768);\n",
    "    \"\"\"))\n",
    "    \n",
    "    # Convert word2vec_embedding column to vector type\n",
    "    conn.execute(text(\"\"\"\n",
    "        ALTER TABLE doc_chunks \n",
    "        ALTER COLUMN word2vec_embedding TYPE vector(300)\n",
    "        USING word2vec_embedding::vector(300);\n",
    "    \"\"\"))\n",
    "    \n",
    "    # Create an index for transformer_embedding\n",
    "    conn.execute(text(\"\"\"\n",
    "        CREATE INDEX IF NOT EXISTS transformer_embedding_idx \n",
    "        ON doc_chunks \n",
    "        USING ivfflat (transformer_embedding vector_cosine_ops)\n",
    "        WITH (lists = 100);\n",
    "    \"\"\"))\n",
    "    \n",
    "    # Create an index for word2vec_embedding\n",
    "    conn.execute(text(\"\"\"\n",
    "        CREATE INDEX IF NOT EXISTS word2vec_embedding_idx \n",
    "        ON doc_chunks \n",
    "        USING ivfflat (word2vec_embedding vector_cosine_ops)\n",
    "        WITH (lists = 100);  -- Decrease this to improve performance, will reduce precision\n",
    "    \"\"\"))\n"
   ]
  }
 ],
 "metadata": {
  "kernelspec": {
   "display_name": "Python 3",
   "language": "python",
   "name": "python3"
  },
  "language_info": {
   "codemirror_mode": {
    "name": "ipython",
    "version": 3
   },
   "file_extension": ".py",
   "mimetype": "text/x-python",
   "name": "python",
   "nbconvert_exporter": "python",
   "pygments_lexer": "ipython3",
   "version": "3.11.11"
  }
 },
 "nbformat": 4,
 "nbformat_minor": 2
}
