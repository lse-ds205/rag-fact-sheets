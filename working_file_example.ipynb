{
 "cells": [
  {
   "cell_type": "markdown",
   "metadata": {},
   "source": [
    "# Set-up"
   ]
  },
  {
   "cell_type": "code",
   "execution_count": 1,
   "metadata": {},
   "outputs": [],
   "source": [
    "import sys\n",
    "import os\n",
    "from pathlib import Path\n",
    "import logging\n",
    "from pprint import pprint\n",
    "logging.basicConfig(level=logging.INFO,\n",
    "                    format='%(asctime)s - %(filename)s - %(levelname)s - %(message)s',\n",
    "                    handlers=[logging.StreamHandler(sys.stdout)])\n",
    "logger = logging.getLogger()\n",
    "\n",
    "project_root = Path(os.getcwd()).resolve().parents[1]\n",
    "sys.path.insert(0, str(project_root))\n",
    "import group4py\n",
    "\n",
    "# Functions that you want to test/work on\n",
    "from chunk import Chunk, Embedding"
   ]
  },
  {
   "cell_type": "markdown",
   "metadata": {},
   "source": [
    "# Testing"
   ]
  },
  {
   "cell_type": "code",
   "execution_count": 2,
   "metadata": {},
   "outputs": [
    {
     "name": "stdout",
     "output_type": "stream",
     "text": [
      "[{'key1': 'value1',\n",
      "  'key2': 42,\n",
      "  'key3': [1, 2, 3],\n",
      "  'key4': {'nested_key': 'nested_value'}},\n",
      " {'key1': 'value1',\n",
      "  'key2': 42,\n",
      "  'key3': [1, 2, 3],\n",
      "  'key4': {'nested_key': 'nested_value'}},\n",
      " {'key1': 'value1',\n",
      "  'key2': 42,\n",
      "  'key3': [1, 2, 3],\n",
      "  'key4': {'nested_key': 'nested_value'}}]\n"
     ]
    }
   ],
   "source": [
    "pprint(Chunk().chunking_function())"
   ]
  }
 ],
 "metadata": {
  "kernelspec": {
   "display_name": "group4venv",
   "language": "python",
   "name": "python3"
  },
  "language_info": {
   "codemirror_mode": {
    "name": "ipython",
    "version": 3
   },
   "file_extension": ".py",
   "mimetype": "text/x-python",
   "name": "python",
   "nbconvert_exporter": "python",
   "pygments_lexer": "ipython3",
   "version": "3.13.2"
  }
 },
 "nbformat": 4,
 "nbformat_minor": 2
}
