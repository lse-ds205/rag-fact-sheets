{
 "cells": [
  {
   "cell_type": "markdown",
   "metadata": {},
   "source": [
    "# Set-up"
   ]
  },
  {
   "cell_type": "code",
   "execution_count": 1,
   "metadata": {},
   "outputs": [],
   "source": [
    "import sys\n",
    "import os\n",
    "from pathlib import Path\n",
    "import logging\n",
    "from pprint import pprint\n",
    "logging.basicConfig(level=logging.INFO,\n",
    "                    format='%(asctime)s - %(filename)s - %(levelname)s - %(message)s',\n",
    "                    handlers=[logging.StreamHandler(sys.stdout)])\n",
    "logger = logging.getLogger()\n",
    "\n",
    "project_root = Path(os.getcwd()).resolve().parents[1]\n",
    "sys.path.insert(0, str(project_root))\n",
    "import group4py\n",
    "\n",
    "# Functions that you want to test/work on\n",
    "from chunk import Chunk, Embedding\n",
    "from helpers import Test, TaskInfo, Logger"
   ]
  },
  {
   "cell_type": "markdown",
   "metadata": {},
   "source": [
    "### E.g. Testing a function"
   ]
  },
  {
   "cell_type": "code",
   "execution_count": 2,
   "metadata": {},
   "outputs": [
    {
     "name": "stdout",
     "output_type": "stream",
     "text": [
      "[{'key1': 'value1',\n",
      "  'key2': 42,\n",
      "  'key3': [1, 2, 3],\n",
      "  'key4': {'nested_key': 'nested_value'}},\n",
      " {'key1': 'value1',\n",
      "  'key2': 42,\n",
      "  'key3': [1, 2, 3],\n",
      "  'key4': {'nested_key': 'nested_value'}},\n",
      " {'key1': 'value1',\n",
      "  'key2': 42,\n",
      "  'key3': [1, 2, 3],\n",
      "  'key4': {'nested_key': 'nested_value'}}]\n"
     ]
    }
   ],
   "source": [
    "pprint(Chunk().chunking_function(None))"
   ]
  },
  {
   "cell_type": "markdown",
   "metadata": {},
   "source": [
    "### E.g. Forcing an output in a specific format"
   ]
  },
  {
   "cell_type": "code",
   "execution_count": 3,
   "metadata": {},
   "outputs": [
    {
     "name": "stdout",
     "output_type": "stream",
     "text": [
      "['I am dummy chunk 1', 'I am dummy chunk 2', 'I am dummy chunk 3']\n"
     ]
    }
   ],
   "source": [
    "@Test.dummy_chunk()\n",
    "def one_plus_one():\n",
    "    return 1 + 1\n",
    "\n",
    "pprint(one_plus_one())"
   ]
  },
  {
   "cell_type": "markdown",
   "metadata": {},
   "source": [
    "### E.g. Forcing an input in a specific format"
   ]
  },
  {
   "cell_type": "code",
   "execution_count": 5,
   "metadata": {},
   "outputs": [
    {
     "name": "stdout",
     "output_type": "stream",
     "text": [
      "2\n"
     ]
    }
   ],
   "source": [
    "@Test.force_input(1)\n",
    "def number_plus_one(number):\n",
    "    return number + 1\n",
    "\n",
    "number = \"I don't have this number yet\"\n",
    "pprint(number_plus_one(number))"
   ]
  },
  {
   "cell_type": "markdown",
   "metadata": {},
   "source": [
    "### Example use of decorators\n",
    "- Rui Kai is working on this function\n",
    "- He wants to let others know that this function has been completed\n",
    "- I want to log outputs of everything related to this function in a specific file"
   ]
  },
  {
   "cell_type": "code",
   "execution_count": 6,
   "metadata": {},
   "outputs": [],
   "source": [
    "@TaskInfo.ruikai()\n",
    "@TaskInfo.completed()\n",
    "@Logger.log(log_file=Path(\"logs/test.log\"), log_level=\"INFO\")\n",
    "def some_complicated_function_that_calls_other_functions():\n",
    "    object().some_complicated_operations()\n",
    "    pass"
   ]
  }
 ],
 "metadata": {
  "kernelspec": {
   "display_name": "group4venv",
   "language": "python",
   "name": "python3"
  },
  "language_info": {
   "codemirror_mode": {
    "name": "ipython",
    "version": 3
   },
   "file_extension": ".py",
   "mimetype": "text/x-python",
   "name": "python",
   "nbconvert_exporter": "python",
   "pygments_lexer": "ipython3",
   "version": "3.13.2"
  }
 },
 "nbformat": 4,
 "nbformat_minor": 2
}
